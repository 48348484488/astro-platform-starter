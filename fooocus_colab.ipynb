{
  "cells": [
    {
      "cell_type": "code",
      "execution_count": 9,
      "metadata": {
        "id": "VjYy0F2gZIPR",
        "outputId": "e1955d55-8ad4-4ee3-892a-0fed5018deb5",
        "colab": {
          "resources": {
            "http://localhost:8080/script.js": {
              "data": "",
              "ok": false,
              "headers": [
                [
                  "content-length",
                  "0"
                ]
              ],
              "status": 404,
              "status_text": ""
            },
            "http://localhost:8080/style.css": {
              "data": "",
              "ok": false,
              "headers": [
                [
                  "content-length",
                  "0"
                ]
              ],
              "status": 404,
              "status_text": ""
            }
          },
          "base_uri": "https://localhost:8080/",
          "height": 74
        }
      },
      "outputs": [
        {
          "output_type": "display_data",
          "data": {
            "text/plain": [
              "<IPython.core.display.HTML object>"
            ],
            "text/html": [
              "<!DOCTYPE html>\n",
              "   <html lang=\"pt-br\">\n",
              "      <head>\n",
              "             <meta charset=\"UTF-8\">\n",
              "                    <meta name=\"viewport\" content=\"width=device-width, initial-scale=1.0\">\n",
              "                           <title>Meu Site</title>\n",
              "                                  <link rel=\"stylesheet\" href=\"style.css\">\n",
              "                                     </head>\n",
              "                                        <body>\n",
              "                                               <h1>Olá, mundo!</h1>\n",
              "                                                      <script src=\"script.js\"></script>\n",
              "                                                         </body>\n",
              "                                                            </html>"
            ]
          },
          "metadata": {}
        }
      ],
      "source": [
        "from IPython.display import HTML\n",
        "\n",
        "with open('index.html', 'r') as f:\n",
        "  html_content = f.read()\n",
        "\n",
        "display(HTML(html_content))"
      ]
    },
    {
      "cell_type": "markdown",
      "source": [],
      "metadata": {
        "id": "ggF0j8oKLy2Z"
      }
    },
    {
      "cell_type": "markdown",
      "source": [],
      "metadata": {
        "id": "jqBm-UOOLzpT"
      }
    },
    {
      "cell_type": "code",
      "source": [],
      "metadata": {
        "id": "ABewGeatL08d"
      },
      "execution_count": null,
      "outputs": []
    },
    {
      "cell_type": "code",
      "source": [],
      "metadata": {
        "id": "z9SiTaq9KWd7"
      },
      "execution_count": null,
      "outputs": []
    }
  ],
  "metadata": {
    "accelerator": "GPU",
    "colab": {
      "gpuType": "T4",
      "provenance": []
    },
    "kernelspec": {
      "display_name": "Python 3",
      "name": "python3"
    },
    "language_info": {
      "name": "python"
    }
  },
  "nbformat": 4,
  "nbformat_minor": 0
}